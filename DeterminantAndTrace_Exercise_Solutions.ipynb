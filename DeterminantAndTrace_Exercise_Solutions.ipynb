{
  "nbformat": 4,
  "nbformat_minor": 0,
  "metadata": {
    "colab": {
      "provenance": [],
      "include_colab_link": true
    },
    "kernelspec": {
      "name": "python3",
      "display_name": "Python 3"
    }
  },
  "cells": [
    {
      "cell_type": "markdown",
      "metadata": {
        "id": "view-in-github",
        "colab_type": "text"
      },
      "source": [
        "<a href=\"https://colab.research.google.com/github/Clustering-Crew/UNIV-6080-Notebooks/blob/main/DeterminantAndTrace_Exercise_Solutions.ipynb\" target=\"_parent\"><img src=\"https://colab.research.google.com/assets/colab-badge.svg\" alt=\"Open In Colab\"/></a>"
      ]
    },
    {
      "cell_type": "markdown",
      "metadata": {
        "id": "oJzd2pGMPohn"
      },
      "source": [
        "*Credit*: some material here has been adapted from [Sam Roweis](https://www.cs.nyu.edu/home/people/in_memoriam/samroweis.html)' [Linear Algebra Review](http://www.cs.ubc.ca/~murphyk/Teaching/Papers/roweis_linAlgebra.ps)."
      ]
    },
    {
      "cell_type": "code",
      "metadata": {
        "id": "cP9CwSc3GWut"
      },
      "source": [
        "import numpy as np"
      ],
      "execution_count": null,
      "outputs": []
    },
    {
      "cell_type": "markdown",
      "metadata": {
        "id": "sd354R6KLvEp"
      },
      "source": [
        "# Determinant and Trace\n",
        "\n",
        "The determinant and trace are two important properties of square ($n \\times n$) matrices.\n",
        "\n",
        "## Determinants\n",
        "\n",
        "The matrix *determinant* is a scalar quantity, normally denoted $|A|$ or $\\text{det}(A)$ whose absolute value measures how much the matrix \"stretches\" or \"squishes\" volume as it transforms its inputs to outputs and whose sign indicates whether the transformation is [orientation preserving](http://en.wikipedia.org/wiki/Orientation_%28vector_space%29). Matrices with large determinants do (on average) a lot of stretching and those with small determinants do a lot of squishing.\n",
        "\n",
        "Matrices with zero determinant have rank less than the number of rows and and actually collapse some of their input space into a line or hyperplane (pancake) in the output space, and this can be thought of doing \"infinite squishing\". Conventionally, the determinant is only defined for square matrices, but there is a natural extension to rectangular ones using the *singular value decomposition*.\n",
        "\n",
        "### Determinant of a full-rank (invertible) matrix\n",
        "\n",
        "Determinants can be computed via `numpy.linalg.det`. Let's compute the determinant for matrix\n",
        "\n",
        "$$\n",
        "\\mathbf{A} =\n",
        "\\begin{bmatrix}\n",
        "2 && 3 && 0\\\\\n",
        "3 && 2 && 7\\\\\n",
        "2 && 1 && 6\n",
        "\\end{bmatrix}\n",
        "$$"
      ]
    },
    {
      "cell_type": "code",
      "metadata": {
        "id": "x0Jbt0GOLvEs",
        "colab": {
          "base_uri": "https://localhost:8080/"
        },
        "outputId": "bcfa215c-d303-4646-d9fd-be221e9c478b"
      },
      "source": [
        "A = np.array([[2, 3, 0], [3, 2, 7], [2, 1, 6]])\n",
        "print(A)\n",
        "print(np.linalg.det(A))\n",
        "print(np.linalg.det(np.linalg.inv(A)))  # note 1/det(A)\n"
      ],
      "execution_count": null,
      "outputs": [
        {
          "output_type": "stream",
          "name": "stdout",
          "text": [
            "[[2 3 0]\n",
            " [3 2 7]\n",
            " [2 1 6]]\n",
            "-2.000000000000006\n",
            "-0.49999999999999917\n"
          ]
        }
      ]
    },
    {
      "cell_type": "markdown",
      "metadata": {
        "id": "-V9zg5d3JF0D"
      },
      "source": [
        "### Determinant of a rank deficient matrix\n",
        "\n",
        "A rank deficient matrix will have determinant of zero. Let's compute the determinant for matrix\n",
        "\n",
        "$$\n",
        "\\mathbf{B} =\n",
        "\\begin{bmatrix}\n",
        "2 & 3 & 2\\\\\n",
        "1 & 2 & 4\\\\\n",
        "3 & 5 & 6\n",
        "\\end{bmatrix}\n",
        "$$"
      ]
    },
    {
      "cell_type": "code",
      "metadata": {
        "id": "HMR-bI0tJDzz",
        "colab": {
          "base_uri": "https://localhost:8080/"
        },
        "outputId": "544c6f47-9a3f-42d9-a4d1-0ae3da40323a"
      },
      "source": [
        "B = np.array([[2, 3, 2], [1, 2, 4], [3, 5, 6]])\n",
        "print(np.linalg.matrix_rank(B))\n",
        "print(B)\n",
        "print(np.linalg.det(B))  # not quite zero because of numerical instability"
      ],
      "execution_count": null,
      "outputs": [
        {
          "output_type": "stream",
          "name": "stdout",
          "text": [
            "2\n",
            "[[2 3 2]\n",
            " [1 2 4]\n",
            " [3 5 6]]\n",
            "2.664535259100367e-15\n"
          ]
        }
      ]
    },
    {
      "cell_type": "markdown",
      "metadata": {
        "id": "cZUgvjrcJkKq"
      },
      "source": [
        "### Exercise\n",
        "\n",
        "Show in another way that $\\mathbf{B}$ is rank deficient."
      ]
    },
    {
      "cell_type": "code",
      "source": [
        "# A matrix can be proved rank deficient if its inverse doesn't exist.\n",
        "\n",
        "print(np.linalg.cond(B))\n",
        "print(np.__version__)\n",
        "\n",
        "def check_rank_deficient(matrix: np.array) -> bool:\n",
        "    \"\"\" Function to check if a matrix is rank deficient through inverse calculation \"\"\"\n",
        "    matrix_i = np.linalg.inv(matrix)\n",
        "    print(matrix_i)\n",
        "\n",
        "    if matrix_i is None or np.linalg.cond(B) > 1e11: return False\n",
        "\n",
        "    return True\n",
        "\n",
        "# print(check_rank_deficient(B))\n",
        "\n",
        "test_matrix_sig = np.array([[1, 2, 0], [3, -1, 2], [-2, 3, -2]]) # Singular matrix\n",
        "\n",
        "print(check_rank_deficient(test_matrix_sig))"
      ],
      "metadata": {
        "colab": {
          "base_uri": "https://localhost:8080/",
          "height": 599
        },
        "id": "mAts2i8ywxhp",
        "outputId": "794a6a36-fece-42fa-d92a-b521243ee362"
      },
      "execution_count": null,
      "outputs": [
        {
          "output_type": "stream",
          "name": "stdout",
          "text": [
            "3.5996351261407976e+16\n",
            "2.0.2\n"
          ]
        },
        {
          "output_type": "error",
          "ename": "LinAlgError",
          "evalue": "Singular matrix",
          "traceback": [
            "\u001b[0;31m---------------------------------------------------------------------------\u001b[0m",
            "\u001b[0;31mLinAlgError\u001b[0m                               Traceback (most recent call last)",
            "\u001b[0;32m/tmp/ipython-input-2567737407.py\u001b[0m in \u001b[0;36m<cell line: 0>\u001b[0;34m()\u001b[0m\n\u001b[1;32m     17\u001b[0m \u001b[0mtest_matrix_sig\u001b[0m \u001b[0;34m=\u001b[0m \u001b[0mnp\u001b[0m\u001b[0;34m.\u001b[0m\u001b[0marray\u001b[0m\u001b[0;34m(\u001b[0m\u001b[0;34m[\u001b[0m\u001b[0;34m[\u001b[0m\u001b[0;36m1\u001b[0m\u001b[0;34m,\u001b[0m \u001b[0;36m2\u001b[0m\u001b[0;34m,\u001b[0m \u001b[0;36m0\u001b[0m\u001b[0;34m]\u001b[0m\u001b[0;34m,\u001b[0m \u001b[0;34m[\u001b[0m\u001b[0;36m3\u001b[0m\u001b[0;34m,\u001b[0m \u001b[0;34m-\u001b[0m\u001b[0;36m1\u001b[0m\u001b[0;34m,\u001b[0m \u001b[0;36m2\u001b[0m\u001b[0;34m]\u001b[0m\u001b[0;34m,\u001b[0m \u001b[0;34m[\u001b[0m\u001b[0;34m-\u001b[0m\u001b[0;36m2\u001b[0m\u001b[0;34m,\u001b[0m \u001b[0;36m3\u001b[0m\u001b[0;34m,\u001b[0m \u001b[0;34m-\u001b[0m\u001b[0;36m2\u001b[0m\u001b[0;34m]\u001b[0m\u001b[0;34m]\u001b[0m\u001b[0;34m)\u001b[0m \u001b[0;31m# Singular matrix\u001b[0m\u001b[0;34m\u001b[0m\u001b[0;34m\u001b[0m\u001b[0m\n\u001b[1;32m     18\u001b[0m \u001b[0;34m\u001b[0m\u001b[0m\n\u001b[0;32m---> 19\u001b[0;31m \u001b[0mprint\u001b[0m\u001b[0;34m(\u001b[0m\u001b[0mcheck_rank_deficient\u001b[0m\u001b[0;34m(\u001b[0m\u001b[0mtest_matrix_sig\u001b[0m\u001b[0;34m)\u001b[0m\u001b[0;34m)\u001b[0m\u001b[0;34m\u001b[0m\u001b[0;34m\u001b[0m\u001b[0m\n\u001b[0m",
            "\u001b[0;32m/tmp/ipython-input-2567737407.py\u001b[0m in \u001b[0;36mcheck_rank_deficient\u001b[0;34m(matrix)\u001b[0m\n\u001b[1;32m      6\u001b[0m \u001b[0;32mdef\u001b[0m \u001b[0mcheck_rank_deficient\u001b[0m\u001b[0;34m(\u001b[0m\u001b[0mmatrix\u001b[0m\u001b[0;34m:\u001b[0m \u001b[0mnp\u001b[0m\u001b[0;34m.\u001b[0m\u001b[0marray\u001b[0m\u001b[0;34m)\u001b[0m \u001b[0;34m->\u001b[0m \u001b[0mbool\u001b[0m\u001b[0;34m:\u001b[0m\u001b[0;34m\u001b[0m\u001b[0;34m\u001b[0m\u001b[0m\n\u001b[1;32m      7\u001b[0m     \u001b[0;34m\"\"\" Function to check if a matrix is rank deficient through inverse calculation \"\"\"\u001b[0m\u001b[0;34m\u001b[0m\u001b[0;34m\u001b[0m\u001b[0m\n\u001b[0;32m----> 8\u001b[0;31m     \u001b[0mmatrix_i\u001b[0m \u001b[0;34m=\u001b[0m \u001b[0mnp\u001b[0m\u001b[0;34m.\u001b[0m\u001b[0mlinalg\u001b[0m\u001b[0;34m.\u001b[0m\u001b[0minv\u001b[0m\u001b[0;34m(\u001b[0m\u001b[0mmatrix\u001b[0m\u001b[0;34m)\u001b[0m\u001b[0;34m\u001b[0m\u001b[0;34m\u001b[0m\u001b[0m\n\u001b[0m\u001b[1;32m      9\u001b[0m     \u001b[0mprint\u001b[0m\u001b[0;34m(\u001b[0m\u001b[0mmatrix_i\u001b[0m\u001b[0;34m)\u001b[0m\u001b[0;34m\u001b[0m\u001b[0;34m\u001b[0m\u001b[0m\n\u001b[1;32m     10\u001b[0m \u001b[0;34m\u001b[0m\u001b[0m\n",
            "\u001b[0;32m/usr/local/lib/python3.12/dist-packages/numpy/linalg/_linalg.py\u001b[0m in \u001b[0;36minv\u001b[0;34m(a)\u001b[0m\n\u001b[1;32m    606\u001b[0m     with errstate(call=_raise_linalgerror_singular, invalid='call',\n\u001b[1;32m    607\u001b[0m                   over='ignore', divide='ignore', under='ignore'):\n\u001b[0;32m--> 608\u001b[0;31m         \u001b[0mainv\u001b[0m \u001b[0;34m=\u001b[0m \u001b[0m_umath_linalg\u001b[0m\u001b[0;34m.\u001b[0m\u001b[0minv\u001b[0m\u001b[0;34m(\u001b[0m\u001b[0ma\u001b[0m\u001b[0;34m,\u001b[0m \u001b[0msignature\u001b[0m\u001b[0;34m=\u001b[0m\u001b[0msignature\u001b[0m\u001b[0;34m)\u001b[0m\u001b[0;34m\u001b[0m\u001b[0;34m\u001b[0m\u001b[0m\n\u001b[0m\u001b[1;32m    609\u001b[0m     \u001b[0;32mreturn\u001b[0m \u001b[0mwrap\u001b[0m\u001b[0;34m(\u001b[0m\u001b[0mainv\u001b[0m\u001b[0;34m.\u001b[0m\u001b[0mastype\u001b[0m\u001b[0;34m(\u001b[0m\u001b[0mresult_t\u001b[0m\u001b[0;34m,\u001b[0m \u001b[0mcopy\u001b[0m\u001b[0;34m=\u001b[0m\u001b[0;32mFalse\u001b[0m\u001b[0;34m)\u001b[0m\u001b[0;34m)\u001b[0m\u001b[0;34m\u001b[0m\u001b[0;34m\u001b[0m\u001b[0m\n\u001b[1;32m    610\u001b[0m \u001b[0;34m\u001b[0m\u001b[0m\n",
            "\u001b[0;32m/usr/local/lib/python3.12/dist-packages/numpy/linalg/_linalg.py\u001b[0m in \u001b[0;36m_raise_linalgerror_singular\u001b[0;34m(err, flag)\u001b[0m\n\u001b[1;32m    102\u001b[0m \u001b[0;34m\u001b[0m\u001b[0m\n\u001b[1;32m    103\u001b[0m \u001b[0;32mdef\u001b[0m \u001b[0m_raise_linalgerror_singular\u001b[0m\u001b[0;34m(\u001b[0m\u001b[0merr\u001b[0m\u001b[0;34m,\u001b[0m \u001b[0mflag\u001b[0m\u001b[0;34m)\u001b[0m\u001b[0;34m:\u001b[0m\u001b[0;34m\u001b[0m\u001b[0;34m\u001b[0m\u001b[0m\n\u001b[0;32m--> 104\u001b[0;31m     \u001b[0;32mraise\u001b[0m \u001b[0mLinAlgError\u001b[0m\u001b[0;34m(\u001b[0m\u001b[0;34m\"Singular matrix\"\u001b[0m\u001b[0;34m)\u001b[0m\u001b[0;34m\u001b[0m\u001b[0;34m\u001b[0m\u001b[0m\n\u001b[0m\u001b[1;32m    105\u001b[0m \u001b[0;34m\u001b[0m\u001b[0m\n\u001b[1;32m    106\u001b[0m \u001b[0;32mdef\u001b[0m \u001b[0m_raise_linalgerror_nonposdef\u001b[0m\u001b[0;34m(\u001b[0m\u001b[0merr\u001b[0m\u001b[0;34m,\u001b[0m \u001b[0mflag\u001b[0m\u001b[0;34m)\u001b[0m\u001b[0;34m:\u001b[0m\u001b[0;34m\u001b[0m\u001b[0;34m\u001b[0m\u001b[0m\n",
            "\u001b[0;31mLinAlgError\u001b[0m: Singular matrix"
          ]
        }
      ]
    },
    {
      "cell_type": "markdown",
      "metadata": {
        "id": "kG7fuob3KU5r"
      },
      "source": [
        "## Trace\n",
        "\n",
        "The trace of a square matrix is simply the sum of its diagonal elements:\n",
        "\n",
        "$$\\mathrm{tr}(\\mathbf{A}) = \\sum_{i=1}^n a_{ii}.$$\n",
        "\n",
        "It can be computed using `numpy.trace`."
      ]
    },
    {
      "cell_type": "code",
      "metadata": {
        "id": "BbkHE3xPKghV",
        "colab": {
          "base_uri": "https://localhost:8080/"
        },
        "outputId": "d2d17f07-626f-40ff-fe62-b1cc6d795398"
      },
      "source": [
        "print(np.trace(A))\n",
        "print(np.diag(A).sum())"
      ],
      "execution_count": null,
      "outputs": [
        {
          "output_type": "stream",
          "name": "stdout",
          "text": [
            "10\n",
            "10\n"
          ]
        }
      ]
    },
    {
      "cell_type": "markdown",
      "metadata": {
        "id": "WfFk8_FALfqm"
      },
      "source": [
        "Note that $\\mathrm{tr}(\\mathbf{A}\\mathbf{B}) = \\mathrm{tr}(\\mathbf{B}\\mathbf{A})$ even if $\\mathbf{A}\\mathbf{B} \\neq \\mathbf{B}\\mathbf{A}$. This property generalizes to products of an arbitrary number of matrices. The trace is invariant under cyclic permutations."
      ]
    },
    {
      "cell_type": "code",
      "metadata": {
        "id": "aEuRD7Z-MLI8",
        "colab": {
          "base_uri": "https://localhost:8080/"
        },
        "outputId": "3f6c6b0a-d63c-4abb-fbf1-bd7abbae59f3"
      },
      "source": [
        "np.allclose(np.trace(A.dot(B)),np.trace(B.dot(A)))"
      ],
      "execution_count": null,
      "outputs": [
        {
          "output_type": "execute_result",
          "data": {
            "text/plain": [
              "True"
            ]
          },
          "metadata": {},
          "execution_count": 8
        }
      ]
    }
  ]
}