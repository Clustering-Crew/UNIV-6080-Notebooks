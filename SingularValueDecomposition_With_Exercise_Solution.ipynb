{
  "nbformat": 4,
  "nbformat_minor": 0,
  "metadata": {
    "colab": {
      "provenance": [],
      "include_colab_link": true
    },
    "kernelspec": {
      "name": "python3",
      "display_name": "Python 3"
    }
  },
  "cells": [
    {
      "cell_type": "markdown",
      "metadata": {
        "id": "view-in-github",
        "colab_type": "text"
      },
      "source": [
        "<a href=\"https://colab.research.google.com/github/Clustering-Crew/UNIV-6080-Notebooks/blob/main/SingularValueDecomposition_With_Exercise_Solution.ipynb\" target=\"_parent\"><img src=\"https://colab.research.google.com/assets/colab-badge.svg\" alt=\"Open In Colab\"/></a>"
      ]
    },
    {
      "cell_type": "code",
      "metadata": {
        "id": "wsy8gVkbkZcx"
      },
      "source": [
        "import numpy as np"
      ],
      "execution_count": 1,
      "outputs": []
    },
    {
      "cell_type": "markdown",
      "metadata": {
        "id": "ysHe9KPgkbDA"
      },
      "source": [
        "# Singular Value Decomposition\n",
        "\n",
        "Let's work through Example 4.13 using NumPy.\n",
        "\n",
        "We would like to compute the singular value decomposition (SVD) of $\\mathbf{A} =\n",
        "\\begin{bmatrix}\n",
        "1  & 0 & 1\\\\\n",
        "-2 & 1 & 0\\\\\n",
        "\\end{bmatrix}\n",
        "$.\n",
        "\n",
        "Step 1 is to compute the right-singular vectors as the eigenbasis of $\\mathbf{A}^{\\top}\\mathbf{A}$:"
      ]
    },
    {
      "cell_type": "code",
      "metadata": {
        "id": "J_dVcjjOk-jq",
        "colab": {
          "base_uri": "https://localhost:8080/"
        },
        "outputId": "165c0b2a-4bc3-461d-f9fb-31476f070c16"
      },
      "source": [
        "A = np.array([[1., 0., 1.], [-2., 1., 0.]])\n",
        "d, V = np.linalg.eig(np.dot(A.T, A))\n",
        "print(d)\n",
        "print(V)"
      ],
      "execution_count": 2,
      "outputs": [
        {
          "output_type": "stream",
          "name": "stdout",
          "text": [
            "[ 6.0000000e+00 -4.4408921e-16  1.0000000e+00]\n",
            "[[ 0.91287093 -0.40824829  0.        ]\n",
            " [-0.36514837 -0.81649658  0.4472136 ]\n",
            " [ 0.18257419  0.40824829  0.89442719]]\n"
          ]
        }
      ]
    },
    {
      "cell_type": "markdown",
      "metadata": {
        "id": "L536AmhAlSQP"
      },
      "source": [
        "Note that `numpy.linalg.eig` does not necessarily order its eigenvalues. By convention, we will sort the eigenvectors from largest to smallest eigenvalue:"
      ]
    },
    {
      "cell_type": "code",
      "metadata": {
        "id": "HE8E9-Fuljc9",
        "colab": {
          "base_uri": "https://localhost:8080/"
        },
        "outputId": "14091088-90cb-4e39-f3c2-36bf58563e5a"
      },
      "source": [
        "idx = d.argsort()[::-1]\n",
        "d = d[idx]\n",
        "V = V[:, idx]\n",
        "print(d)\n",
        "print(V)"
      ],
      "execution_count": 3,
      "outputs": [
        {
          "output_type": "stream",
          "name": "stdout",
          "text": [
            "[ 6.0000000e+00  1.0000000e+00 -4.4408921e-16]\n",
            "[[ 0.91287093  0.         -0.40824829]\n",
            " [-0.36514837  0.4472136  -0.81649658]\n",
            " [ 0.18257419  0.89442719  0.40824829]]\n"
          ]
        }
      ]
    },
    {
      "cell_type": "markdown",
      "metadata": {
        "id": "Abpt_vh8mJy1"
      },
      "source": [
        "Step 2 is to compute the singular-value matrix. The singular values are the square roots of the eigenvalues of $\\mathbf{A}^{\\top}\\mathbf{A}$. Since the rank of $\\mathbf{A}=2$, there are only two non-zero singular values. Remember that the singular value matrix must be the same size as $\\mathbf{A}$, so we pad with zeros accordingly:"
      ]
    },
    {
      "cell_type": "code",
      "metadata": {
        "id": "CwVR2AgUx5wf",
        "colab": {
          "base_uri": "https://localhost:8080/"
        },
        "outputId": "06e9bdee-d6ef-4e01-e4d6-eb80b2aa70b7"
      },
      "source": [
        "min_dim = min(A.shape)\n",
        "nz_idx = ~np.isclose(d, np.zeros_like(d))  # index to non-zero elements\n",
        "Sigma = np.zeros_like(A)\n",
        "# This next step is careful to construct Sigma with the right zero padding\n",
        "Sigma[:min_dim, :min_dim] = np.diag(np.sqrt(d[nz_idx]))\n",
        "print(Sigma)"
      ],
      "execution_count": 4,
      "outputs": [
        {
          "output_type": "stream",
          "name": "stdout",
          "text": [
            "[[2.44948974 0.         0.        ]\n",
            " [0.         1.         0.        ]]\n"
          ]
        }
      ]
    },
    {
      "cell_type": "markdown",
      "metadata": {
        "id": "0FPbfrYxnbdb"
      },
      "source": [
        "We see that indeed $\\mathbf{\\Sigma}=\n",
        "\\begin{bmatrix}\n",
        "\\sqrt{6} & 0 & 0\\\\\n",
        "0        & 1 & 0\n",
        "\\end{bmatrix}$.\n",
        "\n",
        "Step 3 is to compute the left-singular vectors as the normalized image of the right-singular vectors:"
      ]
    },
    {
      "cell_type": "code",
      "metadata": {
        "id": "0za8b_N_n6M0",
        "colab": {
          "base_uri": "https://localhost:8080/"
        },
        "outputId": "086d8470-0aa6-448d-b7f1-bd0901897bb6"
      },
      "source": [
        "m = A.shape[0]\n",
        "U = np.zeros((m, m))\n",
        "for i in range(m):\n",
        "  U[:, i] = (1/Sigma.flat[::Sigma.shape[1]+1][i]) * np.dot(A, V[:, i])\n",
        "print(U)"
      ],
      "execution_count": 5,
      "outputs": [
        {
          "output_type": "stream",
          "name": "stdout",
          "text": [
            "[[ 0.4472136   0.89442719]\n",
            " [-0.89442719  0.4472136 ]]\n"
          ]
        }
      ]
    },
    {
      "cell_type": "markdown",
      "metadata": {
        "id": "kAWuhpYxsKqr"
      },
      "source": [
        "We see that indeed $\\mathbf{U} =\n",
        "\\frac{1}{\\sqrt{5}}\n",
        "\\begin{bmatrix}\n",
        "1  & 2\\\\\n",
        "-2 & 1\n",
        "\\end{bmatrix}.$\n",
        "\n",
        "Note that this procedure is numerically unstable, and we can typically compute the SVD without resorting to the eigenvalue decomposition of $\\mathbf{A}^{\\top}\\mathbf{A}$. `numpy.linalg.svd` provides a convenient way to do this:"
      ]
    },
    {
      "cell_type": "code",
      "metadata": {
        "id": "4PBNI8F_s-C5",
        "colab": {
          "base_uri": "https://localhost:8080/"
        },
        "outputId": "dfc7e20d-d8fe-4aaf-8c83-81d82fc1ae04"
      },
      "source": [
        "u, s, vh = np.linalg.svd(A)  # using the variable names in numpy docs\n",
        "print(u)\n",
        "print(s)\n",
        "# The \"h\" in vh refers to the Hermetian, which is the complex generalization\n",
        "# of the transpose\n",
        "# Effectively, this is V.T\n",
        "print(vh)"
      ],
      "execution_count": 6,
      "outputs": [
        {
          "output_type": "stream",
          "name": "stdout",
          "text": [
            "[[-0.4472136   0.89442719]\n",
            " [ 0.89442719  0.4472136 ]]\n",
            "[2.44948974 1.        ]\n",
            "[[-9.12870929e-01  3.65148372e-01 -1.82574186e-01]\n",
            " [-3.73536832e-16  4.47213595e-01  8.94427191e-01]\n",
            " [-4.08248290e-01 -8.16496581e-01  4.08248290e-01]]\n"
          ]
        }
      ]
    },
    {
      "cell_type": "markdown",
      "metadata": {
        "id": "Y0TcdYiUzG04"
      },
      "source": [
        "You will notice, that for the exception of negative signs that appear in $\\mathbf{U}$ and $\\mathbf{V}^{\\top}$ and cancel out, that this is the same decomposition that we computed above. We can verify that it implements the linear mapping $\\mathbf{A}$:"
      ]
    },
    {
      "cell_type": "code",
      "metadata": {
        "id": "dGh_LCa-vcPS",
        "colab": {
          "base_uri": "https://localhost:8080/"
        },
        "outputId": "bf44d226-2b78-48a1-963e-5ee20f36b4d8"
      },
      "source": [
        "smat = np.zeros_like(A)\n",
        "smat[:min_dim, :min_dim] = np.diag(s)\n",
        "np.allclose(u @ smat @ vh, A)  # note that @ is matrix multiplication"
      ],
      "execution_count": 7,
      "outputs": [
        {
          "output_type": "execute_result",
          "data": {
            "text/plain": [
              "True"
            ]
          },
          "metadata": {},
          "execution_count": 7
        }
      ]
    },
    {
      "cell_type": "code",
      "source": [
        "print(u.shape)\n",
        "print(smat.shape)\n",
        "print(vh.shape)\n"
      ],
      "metadata": {
        "colab": {
          "base_uri": "https://localhost:8080/"
        },
        "id": "wcQ6D-PJ3vid",
        "outputId": "f502af80-ff27-4da3-c043-99de5ba21507"
      },
      "execution_count": 8,
      "outputs": [
        {
          "output_type": "stream",
          "name": "stdout",
          "text": [
            "(2, 2)\n",
            "(2, 3)\n",
            "(3, 3)\n"
          ]
        }
      ]
    },
    {
      "cell_type": "code",
      "source": [
        "b = u @ smat\n",
        "print(b)"
      ],
      "metadata": {
        "colab": {
          "base_uri": "https://localhost:8080/"
        },
        "id": "qm92uLO54Sqh",
        "outputId": "e5cc2c86-798a-421a-98ac-1c054c8638b4"
      },
      "execution_count": 9,
      "outputs": [
        {
          "output_type": "stream",
          "name": "stdout",
          "text": [
            "[[-1.09544512  0.89442719  0.        ]\n",
            " [ 2.19089023  0.4472136   0.        ]]\n"
          ]
        }
      ]
    },
    {
      "cell_type": "markdown",
      "metadata": {
        "id": "FwOaj5enxnzg"
      },
      "source": [
        "## Exercise\n",
        "\n",
        "Verify that the SVD implements $\\mathbf{A}$ like we did above, but without having to explicitly compute `smat`. In other words, leave `s` in vector form. Hint: what part of `vh` is not used at all in `u @ smat @ vh`?"
      ]
    },
    {
      "cell_type": "code",
      "source": [
        "'''Using the hint, we understand that since the third column of smat will be all zeroes,\n",
        "the third row of vh is not needed. '''\n",
        "\n",
        "u, s, vh = np.linalg.svd(A, full_matrices=True)\n",
        "\n",
        "b = (u * s) @ vh[:len(s), :] # Scale matrix u with the singular values.\n",
        "\n",
        "np.allclose(b, A)"
      ],
      "metadata": {
        "colab": {
          "base_uri": "https://localhost:8080/"
        },
        "id": "MY5iu9l-9gbZ",
        "outputId": "6b33165c-2d88-4c4f-8d16-9cf4b72130f9"
      },
      "execution_count": 10,
      "outputs": [
        {
          "output_type": "execute_result",
          "data": {
            "text/plain": [
              "True"
            ]
          },
          "metadata": {},
          "execution_count": 10
        }
      ]
    },
    {
      "cell_type": "code",
      "source": [],
      "metadata": {
        "id": "zafE33qyDK-O"
      },
      "execution_count": 10,
      "outputs": []
    }
  ]
}