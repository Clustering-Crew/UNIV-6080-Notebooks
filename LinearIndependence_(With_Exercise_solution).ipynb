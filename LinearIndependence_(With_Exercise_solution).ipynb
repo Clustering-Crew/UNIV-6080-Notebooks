{
  "nbformat": 4,
  "nbformat_minor": 0,
  "metadata": {
    "colab": {
      "provenance": [],
      "include_colab_link": true
    },
    "kernelspec": {
      "name": "python3",
      "display_name": "Python 3"
    }
  },
  "cells": [
    {
      "cell_type": "markdown",
      "metadata": {
        "id": "view-in-github",
        "colab_type": "text"
      },
      "source": [
        "<a href=\"https://colab.research.google.com/github/Clustering-Crew/UNIV-6080-Notebooks/blob/main/LinearIndependence_(With_Exercise_solution).ipynb\" target=\"_parent\"><img src=\"https://colab.research.google.com/assets/colab-badge.svg\" alt=\"Open In Colab\"/></a>"
      ]
    },
    {
      "cell_type": "code",
      "metadata": {
        "id": "-G9-2M1cRN32"
      },
      "source": [
        "import numpy as np"
      ],
      "execution_count": null,
      "outputs": []
    },
    {
      "cell_type": "markdown",
      "metadata": {
        "id": "93y9Fzg0RPYk"
      },
      "source": [
        "# Linear Independence\n",
        "\n",
        "Let's see a few different ways to test for linear independence of a set of vectors. We will start with the set of vectors from Example 2.15 in the text:\n",
        "\n",
        "$$\n",
        "\\left\\{\n",
        "\\begin{bmatrix} 1\\\\ -2\\\\ 1 \\\\ -1 \\end{bmatrix},\n",
        "\\begin{bmatrix} -4\\\\ -2\\\\ 0 \\\\  4 \\end{bmatrix},\n",
        "\\begin{bmatrix} 2\\\\ 3\\\\  -1\\\\ -3 \\end{bmatrix}\n",
        "\\begin{bmatrix} 17\\\\ -10\\\\  11\\\\ 1 \\end{bmatrix}\n",
        "\\right\\}\n",
        "$$"
      ]
    },
    {
      "cell_type": "code",
      "metadata": {
        "id": "uE4IQKNURbMg",
        "colab": {
          "base_uri": "https://localhost:8080/"
        },
        "outputId": "514c1e51-bf78-45c9-9cce-1ee49315387b"
      },
      "source": [
        "A = np.array([[1, -2, 1, -1], [-4, -2, 0, 4], [2, 3, -1, -3], [17, -10, 11, 1]]).T\n",
        "print(A)"
      ],
      "execution_count": null,
      "outputs": [
        {
          "output_type": "stream",
          "name": "stdout",
          "text": [
            "[[  1  -4   2  17]\n",
            " [ -2  -2   3 -10]\n",
            " [  1   0  -1  11]\n",
            " [ -1   4  -3   1]]\n"
          ]
        }
      ]
    },
    {
      "cell_type": "markdown",
      "metadata": {
        "id": "lo7a1mKfS3KQ"
      },
      "source": [
        "The simplest way to test for linear independence is by way of `numpy.linalg.matrix_rank`. This will report the number of linearly independent columns."
      ]
    },
    {
      "cell_type": "code",
      "metadata": {
        "id": "O596JzvhTKQ1",
        "colab": {
          "base_uri": "https://localhost:8080/"
        },
        "outputId": "ffa49bc4-0846-4ffc-dd8f-a9ad17ba9622"
      },
      "source": [
        "np.linalg.matrix_rank(A)"
      ],
      "execution_count": null,
      "outputs": [
        {
          "output_type": "execute_result",
          "data": {
            "text/plain": [
              "np.int64(3)"
            ]
          },
          "metadata": {},
          "execution_count": 9
        }
      ]
    },
    {
      "cell_type": "markdown",
      "metadata": {
        "id": "dNzcOa74TRb8"
      },
      "source": [
        "We see that only three columns are linearly independent.\n",
        "\n",
        "`np.linalg.matrix_rank` actually employs the Singular Value Decomposition and tests whether the magnitude of the singular values of the matrix exceed some tolerance close to zero. Let's actually run this ourselves."
      ]
    },
    {
      "cell_type": "code",
      "metadata": {
        "id": "EY2nPioFUUtH",
        "colab": {
          "base_uri": "https://localhost:8080/"
        },
        "outputId": "1a0aca4e-5148-47ab-af6c-2470c665297b"
      },
      "source": [
        "U, s, V = np.linalg.svd(A)\n",
        "print(s)"
      ],
      "execution_count": null,
      "outputs": [
        {
          "output_type": "stream",
          "name": "stdout",
          "text": [
            "[2.27926405e+01 7.39086258e+00 1.69431087e+00 1.28342054e-15]\n"
          ]
        }
      ]
    },
    {
      "cell_type": "code",
      "metadata": {
        "id": "PO12QvKFUa-O",
        "colab": {
          "base_uri": "https://localhost:8080/"
        },
        "outputId": "e33d795a-9c77-4d2f-8be9-cbe1821ef484"
      },
      "source": [
        "# this is the default tolerance, see the documentation for numpy.linalg.matrix_rank\n",
        "tol = s.max() * max(A.shape) * np.finfo(s.dtype).eps\n",
        "print(tol)\n",
        "print(s > tol)"
      ],
      "execution_count": null,
      "outputs": [
        {
          "output_type": "stream",
          "name": "stdout",
          "text": [
            "2.0243931419600192e-14\n",
            "[ True  True  True False]\n"
          ]
        }
      ]
    },
    {
      "cell_type": "markdown",
      "metadata": {
        "id": "SoReEtMEUuZU"
      },
      "source": [
        "We see that the fourth singular value does not pass the test. This is because the last column can be expressed as a linear combination of the three others."
      ]
    },
    {
      "cell_type": "markdown",
      "metadata": {
        "id": "X_1nJef8VqwR"
      },
      "source": [
        "## Exercise\n",
        "\n",
        "Another way to test for linear independence is to reduce the matrix to reduced row echelon form and count the pivot columns. This is similar to what was done in Example 2.15 in the text. See if you can use the `sympy` package to do this in Python. Hint: check out the `rref` function."
      ]
    },
    {
      "cell_type": "code",
      "source": [
        "from sympy.matrices import Matrix\n",
        "from typing import Tuple\n",
        "\n",
        "\n",
        "def calc_rref_rank(matrix: Matrix) -> Tuple[Matrix, int]:\n",
        "    \"\"\" Function to calculate RREF and rank of a matrix\"\"\"\n",
        "    # No. of columns\n",
        "    n_cols = matrix.shape[1]\n",
        "\n",
        "    # calculate RREF and pivot columns\n",
        "    RREF, pivot_columns = matrix.rref()\n",
        "\n",
        "    # Rank of the matrix\n",
        "    rank = len(pivot_columns)\n",
        "\n",
        "    # return RREF and rank\n",
        "    return RREF, rank\n"
      ],
      "metadata": {
        "id": "Ua9xBNKKiBHZ"
      },
      "execution_count": null,
      "outputs": []
    },
    {
      "cell_type": "code",
      "source": [
        "# Convert the numpy array to Matrix class\n",
        "matrix = Matrix(A)\n",
        "\n",
        "# Funtion call\n",
        "RREF, rank = check_dependence(matrix)\n",
        "\n",
        "print(f\"Row Reduced Echelon Form: {RREF}\\n\")\n",
        "\n",
        "# pivot_columns\n",
        "print(f\"No. of linearly independent vectors: {rank}\\n\")\n",
        "\n",
        "# Check if the system is linearly independent\n",
        "assert (rank <= matrix.shape[0]), \"This is an impossible case\" # Check if no. of cols >= rank\n",
        "print(\"System is linearly independent\") if (matrix.shape[1] == rank) else print(\"System is linearly dependent\")\n"
      ],
      "metadata": {
        "colab": {
          "base_uri": "https://localhost:8080/"
        },
        "id": "fxbRhXPe4_yB",
        "outputId": "2b547da2-9c79-48b2-da32-72b7cc3a2ac2"
      },
      "execution_count": null,
      "outputs": [
        {
          "output_type": "stream",
          "name": "stdout",
          "text": [
            "Row Reduced Echelon Form: Matrix([[1, 0, 0, -7], [0, 1, 0, -15], [0, 0, 1, -18], [0, 0, 0, 0]])\n",
            "\n",
            "No. of linearly independent vectors: 3\n",
            "\n",
            "System is linearly dependent\n"
          ]
        }
      ]
    },
    {
      "cell_type": "code",
      "source": [],
      "metadata": {
        "id": "ox9_i1wDHn4n"
      },
      "execution_count": null,
      "outputs": []
    }
  ]
}